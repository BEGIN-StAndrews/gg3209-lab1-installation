{
 "cells": [
  {
   "cell_type": "markdown",
   "id": "2af09963-b2b6-4dbc-b7b2-2abba4f328e4",
   "metadata": {},
   "source": [
    "# THIS IS A DUMMY JUPYTER NOTEBOOK\n",
    "\n",
    "Replace this one for your own notebook requested in the LabNo1_Intallation assigment.\n",
    "\n",
    "If you submit this Notebook, it will mean you haven't included in the repo what I have asked. Check Instructions about how to properly submit your work.\n"
   ]
  },
  {
   "cell_type": "markdown",
   "id": "52e1b826-fe5f-432c-8c6a-2c2438311b0e",
   "metadata": {},
   "source": [
    "# My First Notebook\n",
    "\n",
    "**StudentCode:** 123456789\n",
    "**Date:** 01 July 2025\n",
    "**Course:** GG3209"
   ]
  },
  {
   "cell_type": "code",
   "execution_count": 1,
   "id": "74ab64cb-d291-4acb-b343-0958371957ee",
   "metadata": {},
   "outputs": [
    {
     "name": "stdout",
     "output_type": "stream",
     "text": [
      "INSTALLATION VERIFICATION\n",
      "==================================================\n",
      "Date and Time: 2025-07-23 16:18:46.055379\n",
      "Student working on: Darwin 24.5.0\n",
      "Computer name: MAC-ATI0769\n",
      "Python location: /Users/fbenitez/opt/anaconda3/envs/gg3209/lib/python3.10\n",
      "==================================================\n",
      "Testing Python installation...\n"
     ]
    }
   ],
   "source": [
    "import datetime\n",
    "import platform\n",
    "import os\n",
    "\n",
    "print(\"INSTALLATION VERIFICATION\")\n",
    "print(\"=\" * 50)\n",
    "print(f\"Date and Time: {datetime.datetime.now()}\")\n",
    "print(f\"Student working on: {platform.system()} {platform.release()}\")\n",
    "print(f\"Computer name: {platform.node()}\")\n",
    "print(f\"Python location: {os.path.dirname(os.__file__)}\")\n",
    "print(\"=\" * 50)\n",
    "\n",
    "print(\"Testing Python installation...\")"
   ]
  }
 ],
 "metadata": {
  "kernelspec": {
   "display_name": "Python 3 (ipykernel)",
   "language": "python",
   "name": "python3"
  },
  "language_info": {
   "codemirror_mode": {
    "name": "ipython",
    "version": 3
   },
   "file_extension": ".py",
   "mimetype": "text/x-python",
   "name": "python",
   "nbconvert_exporter": "python",
   "pygments_lexer": "ipython3",
   "version": "3.10.18"
  }
 },
 "nbformat": 4,
 "nbformat_minor": 5
}
