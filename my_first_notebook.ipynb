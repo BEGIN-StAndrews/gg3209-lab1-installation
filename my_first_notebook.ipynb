{
 "cells": [
  {
   "cell_type": "markdown",
   "id": "52e1b826-fe5f-432c-8c6a-2c2438311b0e",
   "metadata": {},
   "source": [
    "# My First Spatial Data Science Notebook\n",
    "\n",
    "**StudentCode:** [Write your Studend Code here]  \n",
    "**Date:** [Today's date]  \n",
    "**Course:** GG3209"
   ]
  },
  {
   "cell_type": "markdown",
   "id": "2af09963-b2b6-4dbc-b7b2-2abba4f328e4",
   "metadata": {},
   "source": [
    "# THIS IS A DUMMY JUPYTER NOTEBOOK\n",
    "\n",
    "Replace this one for your own notebook requested in the LabNo1_Intallation assigment.\n",
    "\n",
    "If you submit this Notebook, it will mean you haven't included in the repo what I have asked. Check Instructions about how to properly submit your work.\n"
   ]
  },
  {
   "cell_type": "code",
   "execution_count": null,
   "id": "74ab64cb-d291-4acb-b343-0958371957ee",
   "metadata": {},
   "outputs": [],
   "source": []
  }
 ],
 "metadata": {
  "kernelspec": {
   "display_name": "Python 3 (ipykernel)",
   "language": "python",
   "name": "python3"
  },
  "language_info": {
   "codemirror_mode": {
    "name": "ipython",
    "version": 3
   },
   "file_extension": ".py",
   "mimetype": "text/x-python",
   "name": "python",
   "nbconvert_exporter": "python",
   "pygments_lexer": "ipython3",
   "version": "3.10.18"
  }
 },
 "nbformat": 4,
 "nbformat_minor": 5
}
